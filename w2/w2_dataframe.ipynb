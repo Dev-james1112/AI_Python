{
 "cells": [
  {
   "cell_type": "markdown",
   "id": "50edf4a1",
   "metadata": {},
   "source": [
    "# pandas 라이브러리를 이용한 dataframe 실습"
   ]
  },
  {
   "cell_type": "markdown",
   "id": "36974919",
   "metadata": {},
   "source": [
    "## 1. 성적을 표로 표현해 보자!"
   ]
  },
  {
   "cell_type": "code",
   "execution_count": 4,
   "id": "a04b3014",
   "metadata": {
    "scrolled": true
   },
   "outputs": [
    {
     "name": "stdout",
     "output_type": "stream",
     "text": [
      "     국어  수학   영어\n",
      "디콘   90  80   70\n",
      "넛    80  90   85\n",
      "하이드  60  85  100\n"
     ]
    }
   ],
   "source": [
    "import pandas as pd\n",
    "grade_list = [[90,80,70], [80,90,85], [60,85,100]]\n",
    "\n",
    "df = pd.DataFrame(grade_list, columns=['국어', '수학', '영어'], index=['디콘', '넛', '하이드']) #리스트 데이터를 표 형태(2차원)로 바꾸는 함수\n",
    "df"
   ]
  },
  {
   "cell_type": "markdown",
   "id": "446e3c67",
   "metadata": {},
   "source": [
    "### 1-1. 다른 방법은?"
   ]
  },
  {
   "cell_type": "code",
   "execution_count": 19,
   "id": "78f0f4b4",
   "metadata": {
    "scrolled": true
   },
   "outputs": [
    {
     "data": {
      "text/html": [
       "<div>\n",
       "<style scoped>\n",
       "    .dataframe tbody tr th:only-of-type {\n",
       "        vertical-align: middle;\n",
       "    }\n",
       "\n",
       "    .dataframe tbody tr th {\n",
       "        vertical-align: top;\n",
       "    }\n",
       "\n",
       "    .dataframe thead th {\n",
       "        text-align: right;\n",
       "    }\n",
       "</style>\n",
       "<table border=\"1\" class=\"dataframe\">\n",
       "  <thead>\n",
       "    <tr style=\"text-align: right;\">\n",
       "      <th></th>\n",
       "      <th>국어</th>\n",
       "      <th>수학</th>\n",
       "      <th>영어</th>\n",
       "    </tr>\n",
       "  </thead>\n",
       "  <tbody>\n",
       "    <tr>\n",
       "      <th>디콘</th>\n",
       "      <td>90</td>\n",
       "      <td>80</td>\n",
       "      <td>70</td>\n",
       "    </tr>\n",
       "    <tr>\n",
       "      <th>넛</th>\n",
       "      <td>80</td>\n",
       "      <td>90</td>\n",
       "      <td>85</td>\n",
       "    </tr>\n",
       "    <tr>\n",
       "      <th>하이드</th>\n",
       "      <td>60</td>\n",
       "      <td>85</td>\n",
       "      <td>100</td>\n",
       "    </tr>\n",
       "  </tbody>\n",
       "</table>\n",
       "</div>"
      ],
      "text/plain": [
       "     국어  수학   영어\n",
       "디콘   90  80   70\n",
       "넛    80  90   85\n",
       "하이드  60  85  100"
      ]
     },
     "execution_count": 19,
     "metadata": {},
     "output_type": "execute_result"
    }
   ],
   "source": [
    "# Series 함수 이용하기\n",
    "grade_list = [\n",
    "    pd.Series([90,80,70]),\n",
    "    pd.Series([80,90,85]),\n",
    "    pd.Series([60,85,100])\n",
    "]\n",
    "df2 = pd.DataFrame(grade_list,index=['디콘', '넛', '하이드'])\n",
    "df2.columns = ['국어', '수학', '영어'] \n",
    "df2"
   ]
  },
  {
   "cell_type": "markdown",
   "id": "09f6bfbc",
   "metadata": {},
   "source": [
    "### 1-2.딕셔너리를 이용하기\n"
   ]
  },
  {
   "cell_type": "code",
   "execution_count": 26,
   "id": "a523427e",
   "metadata": {},
   "outputs": [
    {
     "data": {
      "text/html": [
       "<div>\n",
       "<style scoped>\n",
       "    .dataframe tbody tr th:only-of-type {\n",
       "        vertical-align: middle;\n",
       "    }\n",
       "\n",
       "    .dataframe tbody tr th {\n",
       "        vertical-align: top;\n",
       "    }\n",
       "\n",
       "    .dataframe thead th {\n",
       "        text-align: right;\n",
       "    }\n",
       "</style>\n",
       "<table border=\"1\" class=\"dataframe\">\n",
       "  <thead>\n",
       "    <tr style=\"text-align: right;\">\n",
       "      <th></th>\n",
       "      <th>국어</th>\n",
       "      <th>수학</th>\n",
       "      <th>영어</th>\n",
       "    </tr>\n",
       "  </thead>\n",
       "  <tbody>\n",
       "    <tr>\n",
       "      <th>디콘</th>\n",
       "      <td>90</td>\n",
       "      <td>80</td>\n",
       "      <td>70</td>\n",
       "    </tr>\n",
       "    <tr>\n",
       "      <th>넛</th>\n",
       "      <td>80</td>\n",
       "      <td>90</td>\n",
       "      <td>85</td>\n",
       "    </tr>\n",
       "    <tr>\n",
       "      <th>하이드</th>\n",
       "      <td>70</td>\n",
       "      <td>85</td>\n",
       "      <td>100</td>\n",
       "    </tr>\n",
       "  </tbody>\n",
       "</table>\n",
       "</div>"
      ],
      "text/plain": [
       "     국어  수학   영어\n",
       "디콘   90  80   70\n",
       "넛    80  90   85\n",
       "하이드  70  85  100"
      ]
     },
     "execution_count": 26,
     "metadata": {},
     "output_type": "execute_result"
    }
   ],
   "source": [
    "import numpy\n",
    "name_index = ['디콘', '넛', '하이드']\n",
    "korean_score = [90,80,70]\n",
    "math_score = [80,90,85]\n",
    "english_score = [70,85,100]\n",
    "\n",
    "dict1 = {    #딕셔너리로도 데이터프레임을 표현할 수 있다! 딕셔너리의 key가 column의 이름이 된다.\n",
    "    '국어':korean_score,\n",
    "    '수학':math_score,\n",
    "    '영어':english_score\n",
    "}\n",
    "\n",
    "df3 = pd.DataFrame(dict1, index=name_index)\n",
    "df3"
   ]
  }
 ],
 "metadata": {
  "kernelspec": {
   "display_name": "Python 3 (ipykernel)",
   "language": "python",
   "name": "python3"
  },
  "language_info": {
   "codemirror_mode": {
    "name": "ipython",
    "version": 3
   },
   "file_extension": ".py",
   "mimetype": "text/x-python",
   "name": "python",
   "nbconvert_exporter": "python",
   "pygments_lexer": "ipython3",
   "version": "3.10.1"
  }
 },
 "nbformat": 4,
 "nbformat_minor": 5
}
