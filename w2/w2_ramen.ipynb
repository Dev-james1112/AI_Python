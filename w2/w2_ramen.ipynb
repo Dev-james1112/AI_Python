{
 "cells": [
  {
   "cell_type": "markdown",
   "id": "949ec203",
   "metadata": {},
   "source": [
    "# 라면 데이터 분석"
   ]
  },
  {
   "cell_type": "code",
   "execution_count": 29,
   "id": "626ffd24",
   "metadata": {
    "scrolled": true
   },
   "outputs": [
    {
     "data": {
      "text/html": [
       "<div>\n",
       "<style scoped>\n",
       "    .dataframe tbody tr th:only-of-type {\n",
       "        vertical-align: middle;\n",
       "    }\n",
       "\n",
       "    .dataframe tbody tr th {\n",
       "        vertical-align: top;\n",
       "    }\n",
       "\n",
       "    .dataframe thead th {\n",
       "        text-align: right;\n",
       "    }\n",
       "</style>\n",
       "<table border=\"1\" class=\"dataframe\">\n",
       "  <thead>\n",
       "    <tr style=\"text-align: right;\">\n",
       "      <th></th>\n",
       "      <th>신라면</th>\n",
       "      <th>진라면</th>\n",
       "      <th>삼양라면</th>\n",
       "      <th>안성탕면</th>\n",
       "      <th>너구리</th>\n",
       "      <th>육개장 사발면</th>\n",
       "    </tr>\n",
       "  </thead>\n",
       "  <tbody>\n",
       "    <tr>\n",
       "      <th>남성 40대</th>\n",
       "      <td>45</td>\n",
       "      <td>17</td>\n",
       "      <td>17</td>\n",
       "      <td>11</td>\n",
       "      <td>1</td>\n",
       "      <td>3</td>\n",
       "    </tr>\n",
       "    <tr>\n",
       "      <th>남성 50대</th>\n",
       "      <td>44</td>\n",
       "      <td>12</td>\n",
       "      <td>12</td>\n",
       "      <td>12</td>\n",
       "      <td>1</td>\n",
       "      <td>2</td>\n",
       "    </tr>\n",
       "    <tr>\n",
       "      <th>여성 50대</th>\n",
       "      <td>50</td>\n",
       "      <td>8</td>\n",
       "      <td>8</td>\n",
       "      <td>13</td>\n",
       "      <td>2</td>\n",
       "      <td>1</td>\n",
       "    </tr>\n",
       "    <tr>\n",
       "      <th>여성 60대 이상</th>\n",
       "      <td>34</td>\n",
       "      <td>10</td>\n",
       "      <td>19</td>\n",
       "      <td>17</td>\n",
       "      <td>3</td>\n",
       "      <td>2</td>\n",
       "    </tr>\n",
       "    <tr>\n",
       "      <th>2004년</th>\n",
       "      <td>49</td>\n",
       "      <td>3</td>\n",
       "      <td>18</td>\n",
       "      <td>13</td>\n",
       "      <td>5</td>\n",
       "      <td>0</td>\n",
       "    </tr>\n",
       "  </tbody>\n",
       "</table>\n",
       "</div>"
      ],
      "text/plain": [
       "           신라면  진라면  삼양라면  안성탕면  너구리  육개장 사발면\n",
       "남성 40대      45   17    17    11    1        3\n",
       "남성 50대      44   12    12    12    1        2\n",
       "여성 50대      50    8     8    13    2        1\n",
       "여성 60대 이상   34   10    19    17    3        2\n",
       "2004년       49    3    18    13    5        0"
      ]
     },
     "execution_count": 29,
     "metadata": {},
     "output_type": "execute_result"
    }
   ],
   "source": [
    "import pandas as pd\n",
    "\n",
    "data = pd.read_csv('ramen.csv', index_col=0)\n",
    "data\n",
    "\n",
    "data['신라면']   # pandas.core.series.Series 1차원 데이터\n",
    "data[['신라면']]  # pandas.core.frame.DataFrame 2차원 데이터\n",
    "\n",
    "data[['신라면','너구리']]  #column 인덱싱\n",
    "\n",
    "data['2004년':'2019년']   # 인덱스 범위 슬라이싱\n",
    "\n",
    "data.loc['여성 30대', '삼양라면']   #행과 열 이름으로 원하는 데이터 찾기\n",
    "data.loc['여성 30대',:]   #콜론을 붙이면 전체 인덱싱\n",
    "data.iloc[1,1]  #인덱스 번호로 원하는 데이터 찾기\n",
    "\n",
    "#남성 13-18세와 여성 13-18세의 진라면 선호도 추출하기\n",
    "data.loc['남성 13-18세', '진라면'] #23\n",
    "data.loc['여성 13-18세', '진라면'] #12\n",
    "#한번에 추출하는 방법\n",
    "data.loc[['남성 13-18세', '여성 13-18세'], '진라면']\n",
    "\n",
    "#조건에 맞는 데이터 추출\n",
    "data.loc[data['안성탕면']>10]"
   ]
  },
  {
   "cell_type": "code",
   "execution_count": null,
   "id": "543f9f29",
   "metadata": {},
   "outputs": [],
   "source": []
  }
 ],
 "metadata": {
  "kernelspec": {
   "display_name": "Python 3 (ipykernel)",
   "language": "python",
   "name": "python3"
  },
  "language_info": {
   "codemirror_mode": {
    "name": "ipython",
    "version": 3
   },
   "file_extension": ".py",
   "mimetype": "text/x-python",
   "name": "python",
   "nbconvert_exporter": "python",
   "pygments_lexer": "ipython3",
   "version": "3.10.1"
  }
 },
 "nbformat": 4,
 "nbformat_minor": 5
}
