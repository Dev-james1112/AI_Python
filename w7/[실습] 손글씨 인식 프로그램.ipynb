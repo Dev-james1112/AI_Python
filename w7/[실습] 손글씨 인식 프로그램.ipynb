{
 "cells": [
  {
   "attachments": {},
   "cell_type": "markdown",
   "id": "b69fc83d",
   "metadata": {},
   "source": [
    "# MNIST를 이용한 손글씨 인식 코드"
   ]
  },
  {
   "cell_type": "code",
   "execution_count": 2,
   "id": "90168aaf",
   "metadata": {},
   "outputs": [
    {
     "ename": "ModuleNotFoundError",
     "evalue": "No module named 'tensorflow'",
     "output_type": "error",
     "traceback": [
      "\u001b[1;31m---------------------------------------------------------------------------\u001b[0m",
      "\u001b[1;31mModuleNotFoundError\u001b[0m                       Traceback (most recent call last)",
      "\u001b[1;32m~\\AppData\\Local\\Temp/ipykernel_11716/2118782701.py\u001b[0m in \u001b[0;36m<module>\u001b[1;34m\u001b[0m\n\u001b[0;32m      1\u001b[0m \u001b[1;31m#MNIST를 이용한 손글씨 학습 코드\u001b[0m\u001b[1;33m\u001b[0m\u001b[1;33m\u001b[0m\u001b[0m\n\u001b[1;32m----> 2\u001b[1;33m \u001b[1;32mimport\u001b[0m \u001b[0mtensorflow\u001b[0m \u001b[1;32mas\u001b[0m \u001b[0mtf\u001b[0m\u001b[1;33m\u001b[0m\u001b[1;33m\u001b[0m\u001b[0m\n\u001b[0m\u001b[0;32m      3\u001b[0m \u001b[1;33m\u001b[0m\u001b[0m\n\u001b[0;32m      4\u001b[0m \u001b[0mmnist\u001b[0m \u001b[1;33m=\u001b[0m \u001b[0mtf\u001b[0m\u001b[1;33m.\u001b[0m\u001b[0mkeras\u001b[0m\u001b[1;33m.\u001b[0m\u001b[0mdatasets\u001b[0m\u001b[1;33m.\u001b[0m\u001b[0mmnist\u001b[0m\u001b[1;33m\u001b[0m\u001b[1;33m\u001b[0m\u001b[0m\n\u001b[0;32m      5\u001b[0m \u001b[1;33m\u001b[0m\u001b[0m\n",
      "\u001b[1;31mModuleNotFoundError\u001b[0m: No module named 'tensorflow'"
     ]
    }
   ],
   "source": [
    "#MNIST를 이용한 손글씨 학습 코드\n",
    "import tensorflow as tf\n",
    "\n",
    "mnist = tf.keras.datasets.mnist\n",
    "\n",
    "(x_train, y_train),(x_test, y_test) = mnist.load_data()\n",
    "x_train, x_test = x_train / 255.0, x_test / 255.0\n",
    "\n",
    "model = tf.keras.models.Sequential([\n",
    "   tf.keras.layers.Flatten(input_shape=(28, 28)),\n",
    "    tf.keras.layers.Dense(512, activation='relu'),\n",
    "  tf.keras.layers.Dropout(0.2),\n",
    "  tf.keras.layers.Dense(10, activation=tf.nn.softmax)\n",
    "])\n",
    "\n",
    "model.compile(optimizer='adam',\n",
    "              loss='sparse_categorical_crossentropy',\n",
    "              metrics=['accuracy'])\n",
    "\n",
    "model.fit(x_train, y_train, epochs=5)\n",
    "model.evaluate(x_test, y_test)\n",
    "\n",
    "model.save_weights('mnist_checkpoint')"
   ]
  },
  {
   "cell_type": "code",
   "execution_count": null,
   "id": "46eb6116",
   "metadata": {},
   "outputs": [],
   "source": []
  },
  {
   "cell_type": "markdown",
   "id": "983bf457",
   "metadata": {},
   "source": [
    "# 손글씨 분석 코드"
   ]
  },
  {
   "cell_type": "code",
   "execution_count": 7,
   "id": "065b4faa",
   "metadata": {},
   "outputs": [
    {
     "name": "stdout",
     "output_type": "stream",
     "text": [
      "WARNING:tensorflow:Detecting that an object or model or tf.train.Checkpoint is being deleted with unrestored values. See the following logs for the specific values in question. To silence these warnings, use `status.expect_partial()`. See https://www.tensorflow.org/api_docs/python/tf/train/Checkpoint#restorefor details about the status object returned by the restore function.\n",
      "WARNING:tensorflow:Value in checkpoint could not be found in the restored object: (root).layer_with_weights-0.kernel\n",
      "WARNING:tensorflow:Value in checkpoint could not be found in the restored object: (root).layer_with_weights-0.bias\n",
      "WARNING:tensorflow:Value in checkpoint could not be found in the restored object: (root).layer_with_weights-1.kernel\n",
      "WARNING:tensorflow:Value in checkpoint could not be found in the restored object: (root).layer_with_weights-1.bias\n",
      "WARNING:tensorflow:Value in checkpoint could not be found in the restored object: (root).optimizer.iter\n",
      "WARNING:tensorflow:Value in checkpoint could not be found in the restored object: (root).optimizer.beta_1\n",
      "WARNING:tensorflow:Value in checkpoint could not be found in the restored object: (root).optimizer.beta_2\n",
      "WARNING:tensorflow:Value in checkpoint could not be found in the restored object: (root).optimizer.decay\n",
      "WARNING:tensorflow:Value in checkpoint could not be found in the restored object: (root).optimizer.learning_rate\n",
      "WARNING:tensorflow:Value in checkpoint could not be found in the restored object: (root).optimizer's state 'm' for (root).layer_with_weights-0.kernel\n",
      "WARNING:tensorflow:Value in checkpoint could not be found in the restored object: (root).optimizer's state 'm' for (root).layer_with_weights-0.bias\n",
      "WARNING:tensorflow:Value in checkpoint could not be found in the restored object: (root).optimizer's state 'm' for (root).layer_with_weights-1.kernel\n",
      "WARNING:tensorflow:Value in checkpoint could not be found in the restored object: (root).optimizer's state 'm' for (root).layer_with_weights-1.bias\n",
      "WARNING:tensorflow:Value in checkpoint could not be found in the restored object: (root).optimizer's state 'v' for (root).layer_with_weights-0.kernel\n",
      "WARNING:tensorflow:Value in checkpoint could not be found in the restored object: (root).optimizer's state 'v' for (root).layer_with_weights-0.bias\n",
      "WARNING:tensorflow:Value in checkpoint could not be found in the restored object: (root).optimizer's state 'v' for (root).layer_with_weights-1.kernel\n",
      "WARNING:tensorflow:Value in checkpoint could not be found in the restored object: (root).optimizer's state 'v' for (root).layer_with_weights-1.bias\n"
     ]
    },
    {
     "name": "stderr",
     "output_type": "stream",
     "text": [
      "[ WARN:0@708.833] global /io/opencv/modules/videoio/src/cap_v4l.cpp (889) open VIDEOIO(V4L2:/dev/video0): can't open camera by index\n"
     ]
    }
   ],
   "source": [
    "#필요한 모듈을 import 하세요.\n",
    "import tensorflow as tf\n",
    "import cv2\n",
    "import numpy as np\n",
    "import math\n",
    "\n",
    "def process(img_input):\n",
    "    gray = cv2.cvtColor(img_input, cv2.COLOR_BGR2GRAY) # 입력받은 이미지의 색상을 흑백으로 변경\n",
    "    gray = cv2.resize(gray, (28,28), interpolation = cv2.INTER_AREA) # 이미지 크기를 28*28로 조정\n",
    "\n",
    "    (thresh, img_binary) = cv2.threshold(gray, 0,255 , cv2.THRESH_BINARY_INV | cv2.THRESH_OTSU) # 이미지 이진화\n",
    "\n",
    "    h,w = img_binary.shape\n",
    "    ratio = 100/h\n",
    "    new_h = 100\n",
    "    new_w = w*ratio\n",
    "    #함수 process를 완성하세요.\n",
    "    img_empty = np.zeros((110, 110), dtype=img_binary.dtype)\n",
    "    img_binary = cv2.resize(img_binary, (int(new_w), int(new_h)), interpolation=cv2.INTER_AREA)\n",
    "    \n",
    "    img_empty[:img_binary.shape[0], :img_binary.shape[1]] = img_binary\n",
    "    img_binary = img_empty\n",
    "\n",
    "    cnts = cv2.findContours(img_binary.copy(), cv2.RETR_EXTERNAL, cv2.CHAIN_APPROX_SIMPLE)\n",
    "    M = cv2.moments(cnts[0][0])\n",
    "    center_x = (M[\"m10\"] / M[\"m00\"])\n",
    "    center_y = (M[\"m01\"] / M[\"m00\"])\n",
    "\n",
    "    height, width = img_binary.shape[:2]\n",
    "    shiftx = width / 2 - center_x\n",
    "    shifty = height / 2 - center_y\n",
    "\n",
    "    Translation_Matrix = np.float32([[1, 0, shiftx], [0, 1, shifty]])\n",
    "    img_binary = cv2.warpAffine(img_binary, Translation_Matrix, (width, height))\n",
    "    img_binary = cv2.resize(img_binary, (28, 28), interpolation=cv2.INTER_AREA)\n",
    "    flatten = img_binary.flatten() / 255.0\n",
    "    return flatten\n",
    "\n",
    "model = tf.keras.models.Sequential([\n",
    "    tf.keras.layers.Flatten(),\n",
    "    tf.keras.layers.Dense(512, activation=tf.nn.relu),\n",
    "    tf.keras.layers.Dropout(0.2),\n",
    "    tf.keras.layers.Dense(10, activation=tf.nn.softmax)\n",
    "])\n",
    "\n",
    "model.load_weights('mnist_checkpoint')\n",
    "\n",
    "#손글씨 인식 프로그램을 완성하세요.\n",
    "cap = cv2.VideoCapture(0)\n",
    "width = int(cap.get(cv2.CAP_PROP_FRAME_WIDTH))\n",
    "height = int(cap.get(cv2.CAP_PROP_FRAME_HEIGHT))\n",
    "\n",
    "\n",
    "\n",
    "while True:\n",
    "    ret, img_color = cap.read()\n",
    "    if ret == False:\n",
    "        break\n",
    "    img_input = img_color.copy()\n",
    "    cv2.recctangle(img_color, (250,150), (width-250, height-150), (0,0,255), 3)\n",
    "    cv2.imshow('week7', img_color)\n",
    "\n",
    "    img_roi = img_input[150:height-150, 250:width-250]\n",
    "\n",
    "    key = cv2.waitKey(1)\n",
    "    if key == 27:\n",
    "        break\n",
    "    elif key == 32:\n",
    "        flatten = process(img_roi)\n",
    "        predictions = model.predict(flatten[np.newaxis,:])\n",
    "\n",
    "        with tf.compat.v1.Session() as sess:\n",
    "            print(tf.argmax(predictions,1).eval()) # 작성한 글자에서 가장 유사한 숫자를 찾아 출력\n",
    "    cv2.imshow('img_roi', img_roi)\n",
    "    cv2.waitKey(0)\n",
    "\n",
    "cap.release()\n",
    "#cv2.destoryAllWindows()"
   ]
  }
 ],
 "metadata": {
  "kernelspec": {
   "display_name": "Python 3",
   "language": "python",
   "name": "python3"
  },
  "language_info": {
   "codemirror_mode": {
    "name": "ipython",
    "version": 3
   },
   "file_extension": ".py",
   "mimetype": "text/x-python",
   "name": "python",
   "nbconvert_exporter": "python",
   "pygments_lexer": "ipython3",
   "version": "3.10.1"
  }
 },
 "nbformat": 4,
 "nbformat_minor": 5
}
