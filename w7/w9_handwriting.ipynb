{
 "cells": [
  {
   "cell_type": "markdown",
   "metadata": {},
   "source": [
    "### 1. 데이터 수집 및 전처리하기"
   ]
  },
  {
   "cell_type": "code",
   "execution_count": 1,
   "metadata": {},
   "outputs": [
    {
     "name": "stdout",
     "output_type": "stream",
     "text": [
      "['DESCR', 'data', 'feature_names', 'frame', 'images', 'target', 'target_names']\n",
      "1347 450\n",
      "[[ 0.  0.  5. 14. 15.  4.  0.  0.]\n",
      " [ 0.  0.  8. 16. 16. 14.  0.  0.]\n",
      " [ 0.  0.  5. 16. 16.  9.  0.  0.]\n",
      " [ 0.  0.  0. 15. 16.  1.  0.  0.]\n",
      " [ 0.  0.  1. 16. 13.  0.  0.  0.]\n",
      " [ 0.  0. 11. 15. 14.  5.  0.  0.]\n",
      " [ 0.  0. 12. 12.  8. 15.  1.  0.]\n",
      " [ 0.  0.  5. 16. 16. 16.  2.  0.]]\n",
      "8\n"
     ]
    },
    {
     "data": {
      "image/png": "[encoded data removed]",
      "text/plain": [
       "<Figure size 432x288 with 1 Axes>"
      ]
     },
     "metadata": {
      "needs_background": "light"
     },
     "output_type": "display_data"
    }
   ],
   "source": [
    "from sklearn import datasets, svm\n",
    "from sklearn.model_selection import train_test_split\n",
    "import matplotlib.pyplot as plt\n",
    "from sklearn.metrics import accuracy_score\n",
    "digits = datasets.load_digits()\n",
    "print(dir(digits)) # ['DESCR', 'data', 'feature_names', 'frame', 'images', 'target', 'target_names']\n",
    "digits['data'] # 손글씨 이미지 하나하나에 대한 정보 (2차원 데이터)\n",
    "digits['images'] # 손글씨 이미지 하나하나에 대한 정보 (3차원 데이터)\n",
    "digits['target'] # 1797개 문제에 대한 정답 레이블\n",
    "digits['target_names'] # 정답으로 나올 수 있는 숫자의 종류\n",
    "digits['feature_names'] # 데이터셋의 column 이름\n",
    "\n",
    "data = digits['data']\n",
    "label = digits['target']\n",
    "train_data, test_data, train_label, test_label = train_test_split(data, label)\n",
    "print(len(train_data), len(test_data))\n",
    "\n",
    "print(digits['images'][123])\n",
    "print(label[123])\n",
    "\n",
    "plt.imshow(digits['images'][123], cmap='gray')\n",
    "plt.show()"
   ]
  },
  {
   "cell_type": "markdown",
   "metadata": {},
   "source": [
    "### 2. 머신 러닝 모델 만들고 학습시키기"
   ]
  },
  {
   "cell_type": "code",
   "execution_count": 4,
   "metadata": {},
   "outputs": [
    {
     "data": {
      "text/plain": [
       "SVC()"
      ]
     },
     "execution_count": 4,
     "metadata": {},
     "output_type": "execute_result"
    }
   ],
   "source": [
    "clf = svm.SVC() # 분류기 생성\n",
    "clf.fit(train_data, train_label) # 훈련 셋으로 학습시키기\n"
   ]
  },
  {
   "cell_type": "markdown",
   "metadata": {},
   "source": [
    "### 3. 테스트 셋으로 예측하기"
   ]
  },
  {
   "cell_type": "code",
   "execution_count": 5,
   "metadata": {},
   "outputs": [],
   "source": [
    "pre = clf.predict(test_data)"
   ]
  },
  {
   "cell_type": "markdown",
   "metadata": {},
   "source": [
    "### 4. 예측 정확도 계산, 출력하기"
   ]
  },
  {
   "cell_type": "code",
   "execution_count": 6,
   "metadata": {},
   "outputs": [
    {
     "name": "stdout",
     "output_type": "stream",
     "text": [
      "정확도 점수: 0.989\n"
     ]
    }
   ],
   "source": [
    "score = accuracy_score(test_label, pre)\n",
    "print('정확도 점수: %0.3f' %score)"
   ]
  }
 ],
 "metadata": {
  "interpreter": {
   "hash": "916dbcbb3f70747c44a77c7bcd40155683ae19c65e1c03b4aa3499c5328201f1"
  },
  "kernelspec": {
   "display_name": "Python 3.8.10 64-bit",
   "language": "python",
   "name": "python3"
  },
  "language_info": {
   "codemirror_mode": {
    "name": "ipython",
    "version": 3
   },
   "file_extension": ".py",
   "mimetype": "text/x-python",
   "name": "python",
   "nbconvert_exporter": "python",
   "pygments_lexer": "ipython3",
   "version": "3.8.10"
  },
  "orig_nbformat": 4
 },
 "nbformat": 4,
 "nbformat_minor": 2
}
