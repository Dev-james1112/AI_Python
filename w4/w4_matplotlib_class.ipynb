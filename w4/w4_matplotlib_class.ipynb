{
 "cells": [
  {
   "cell_type": "markdown",
   "id": "bcfec20f",
   "metadata": {},
   "source": [
    "# 데이터 시각화"
   ]
  },
  {
   "cell_type": "markdown",
   "id": "bcede3b6",
   "metadata": {},
   "source": [
    "### 1. 데이터 불러와서 필요한 부분만 자르기"
   ]
  },
  {
   "cell_type": "code",
   "execution_count": 1,
   "id": "89d42cba",
   "metadata": {},
   "outputs": [
    {
     "data": {
      "text/plain": [
       "1990    12.8\n",
       "1991    12.3\n",
       "1992    12.5\n",
       "1993    12.0\n",
       "1994    13.5\n",
       "1995    12.2\n",
       "1996    12.2\n",
       "1997    12.9\n",
       "1998    13.8\n",
       "1999    13.2\n",
       "2000    12.7\n",
       "2001    12.8\n",
       "2002    12.9\n",
       "2003    12.8\n",
       "2004    13.3\n",
       "2005    12.1\n",
       "2006    13.0\n",
       "2007    13.3\n",
       "2008    12.9\n",
       "2009    12.9\n",
       "2010    12.1\n",
       "2011    12.0\n",
       "2012    12.2\n",
       "2013    12.5\n",
       "2014    13.4\n",
       "2015    13.6\n",
       "2016    13.6\n",
       "2017    13.0\n",
       "2018    12.9\n",
       "2019    13.5\n",
       "2020    13.2\n",
       "Name: 평균기온, dtype: float64"
      ]
     },
     "execution_count": 1,
     "metadata": {},
     "output_type": "execute_result"
    }
   ],
   "source": [
    "import pandas as pd\n",
    "import matplotlib.pyplot as plt\n",
    "\n",
    "# 폰트\n",
    "from matplotlib import font_manager, rc\n",
    "font_path = 'C:WINDOWS\\FONTS\\GULIM.TTC'\n",
    "font_name = font_manager.FontProperties(fname=font_path).get_name()\n",
    "rc('font', family=font_name)\n",
    "\n",
    "df = pd.read_csv(\"서울의 연간 기온.csv\", index_col=0)\n",
    "\n",
    "tem_Seoul = df.loc['평균기온', '1990':]\n",
    "tem_Seoul"
   ]
  },
  {
   "cell_type": "markdown",
   "id": "57259b30",
   "metadata": {},
   "source": [
    "### 2. 선 그래프 그리기"
   ]
  },
  {
   "cell_type": "code",
   "execution_count": 2,
   "id": "38d9e50c",
   "metadata": {
    "scrolled": true
   },
   "outputs": [
    {
     "data": {
      "text/plain": [
       "'\\n#그래프가 뒤죽박죽인 경우?\\ntem_Seoul = pd.to_numeric(tem_Seoul)\\ntem_Seoul = tem_Seoul.map(float)\\n# 코드를 통해 dtype을 숫자로 변경할 수 있음.\\n'"
      ]
     },
     "execution_count": 2,
     "metadata": {},
     "output_type": "execute_result"
    },
    {
     "data": {
      "image/png": "[encoded data removed]",
      "text/plain": [
       "<Figure size 432x288 with 1 Axes>"
      ]
     },
     "metadata": {
      "needs_background": "light"
     },
     "output_type": "display_data"
    }
   ],
   "source": [
    "plt.plot(tem_Seoul) #plot(): 그래프를 만들어주는 함수. x축은 index, y축은 values로 기본 설정됨\n",
    "plt.plot(tem_Seoul.index, tem_Seoul.values) #이렇게 x,y축 정해줄수도 있다\n",
    "\n",
    "'''\n",
    "#그래프가 뒤죽박죽인 경우?\n",
    "tem_Seoul = pd.to_numeric(tem_Seoul)\n",
    "tem_Seoul = tem_Seoul.map(float)\n",
    "# 코드를 통해 dtype을 숫자로 변경할 수 있음.\n",
    "'''"
   ]
  },
  {
   "cell_type": "markdown",
   "id": "e1134e0c",
   "metadata": {},
   "source": [
    "### 3. 선 그래프 꾸미기"
   ]
  },
  {
   "cell_type": "code",
   "execution_count": 2,
   "id": "4b8fda99",
   "metadata": {
    "scrolled": false
   },
   "outputs": [
    {
     "ename": "NameError",
     "evalue": "name 'plt' is not defined",
     "output_type": "error",
     "traceback": [
      "\u001b[1;31m---------------------------------------------------------------------------\u001b[0m",
      "\u001b[1;31mNameError\u001b[0m                                 Traceback (most recent call last)",
      "\u001b[1;32m~\\AppData\\Local\\Temp/ipykernel_11752/3451167747.py\u001b[0m in \u001b[0;36m<module>\u001b[1;34m\u001b[0m\n\u001b[0;32m      3\u001b[0m \u001b[1;33m\u001b[0m\u001b[0m\n\u001b[0;32m      4\u001b[0m \u001b[1;31m# 그래프 사이즈 변경하기\u001b[0m\u001b[1;33m\u001b[0m\u001b[1;33m\u001b[0m\u001b[0m\n\u001b[1;32m----> 5\u001b[1;33m \u001b[0mplt\u001b[0m\u001b[1;33m.\u001b[0m\u001b[0mfigure\u001b[0m\u001b[1;33m(\u001b[0m\u001b[0mfigsize\u001b[0m\u001b[1;33m=\u001b[0m\u001b[1;33m(\u001b[0m\u001b[1;36m20\u001b[0m\u001b[1;33m,\u001b[0m\u001b[1;36m5\u001b[0m\u001b[1;33m)\u001b[0m\u001b[1;33m)\u001b[0m \u001b[1;31m#figure(figsize=(x,y))\u001b[0m\u001b[1;33m\u001b[0m\u001b[1;33m\u001b[0m\u001b[0m\n\u001b[0m\u001b[0;32m      6\u001b[0m \u001b[1;33m\u001b[0m\u001b[0m\n\u001b[0;32m      7\u001b[0m \u001b[1;31m# 제목 붙이기\u001b[0m\u001b[1;33m\u001b[0m\u001b[1;33m\u001b[0m\u001b[0m\n",
      "\u001b[1;31mNameError\u001b[0m: name 'plt' is not defined"
     ]
    }
   ],
   "source": [
    "#폰트 설정(첫 셀에서) \n",
    "#'http://localhost:8888/notebooks/AI_Python/w4/w4_matplotlib_class.ipynb#1.-%EB%8D%B0%EC%9D%B4%ED%84%B0-%EB%B6%88%EB%9F%AC%EC%99%80%EC%84%9C-%ED%95%84%EC%9A%94%ED%95%9C-%EB%B6%80%EB%B6%84%EB%A7%8C-%EC%9E%90%EB%A5%B4%EA%B8%B0'\n",
    "\n",
    "# 그래프 사이즈 변경하기\n",
    "plt.figure(figsize=(20,5)) #figure(figsize=(x,y))\n",
    "\n",
    "# 제목 붙이기\n",
    "plt.title('서울 평균 기온(1990~2020)', size=20)\n",
    "\n",
    "# x,y축 이름 붙이기\n",
    "plt.xlabel('년도', size=15)\n",
    "plt.ylabel('평균 기온', size=15)\n",
    "\n",
    "\n",
    "# x,y축 최댓값, 최솟값 정하기\n",
    "plt.xlim(-1, 31)\n",
    "plt.ylim(11.5,14)\n",
    "\n",
    "# 그래프 스타일 정하기\n",
    "plt.style.use('fast')\n",
    "plt.style.available # 가눙한 스타일 목록\n",
    "\n",
    "plt.plot(tem_Seoul)\n",
    "plt.show() # 변경 사항 저장하고, 그래프 출력해줌"
   ]
  },
  {
   "cell_type": "markdown",
   "id": "47e435c0",
   "metadata": {},
   "source": [
    "### 4. 선 그래프 여러 개 그리기"
   ]
  }
 ],
 "metadata": {
  "kernelspec": {
   "display_name": "Python 3 (ipykernel)",
   "language": "python",
   "name": "python3"
  },
  "language_info": {
   "codemirror_mode": {
    "name": "ipython",
    "version": 3
   },
   "file_extension": ".py",
   "mimetype": "text/x-python",
   "name": "python",
   "nbconvert_exporter": "python",
   "pygments_lexer": "ipython3",
   "version": "3.10.1"
  }
 },
 "nbformat": 4,
 "nbformat_minor": 5
}
