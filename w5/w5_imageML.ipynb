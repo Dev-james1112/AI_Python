{
 "cells": [
  {
   "cell_type": "code",
   "execution_count": 1,
   "metadata": {},
   "outputs": [
    {
     "name": "stdout",
     "output_type": "stream",
     "text": [
      "WARNING:tensorflow:No training configuration found in the save file, so the model was *not* compiled. Compile it manually.\n",
      "비디오 읽기 성공\n",
      "비디오 읽기 성공\n",
      "비디오 읽기 성공\n",
      "비디오 읽기 성공\n",
      "비디오 읽기 성공\n",
      "비디오 읽기 성공\n",
      "비디오 읽기 성공\n",
      "비디오 읽기 성공\n",
      "비디오 읽기 성공\n",
      "비디오 읽기 성공\n",
      "비디오 읽기 성공\n",
      "비디오 읽기 성공\n",
      "비디오 읽기 성공\n",
      "비디오 읽기 성공\n",
      "비디오 읽기 성공\n",
      "비디오 읽기 성공\n",
      "not me\n",
      "[[1. 0.]]\n"
     ]
    },
    {
     "ename": "AttributeError",
     "evalue": "module 'cv2' has no attribute 'destoryAllWindows'",
     "output_type": "error",
     "traceback": [
      "\u001b[1;31m---------------------------------------------------------------------------\u001b[0m",
      "\u001b[1;31mAttributeError\u001b[0m                            Traceback (most recent call last)",
      "\u001b[1;32m~\\AppData\\Local\\Temp/ipykernel_7040/3002080759.py\u001b[0m in \u001b[0;36m<module>\u001b[1;34m\u001b[0m\n\u001b[0;32m     41\u001b[0m \u001b[1;33m\u001b[0m\u001b[0m\n\u001b[0;32m     42\u001b[0m \u001b[0mcapture\u001b[0m\u001b[1;33m.\u001b[0m\u001b[0mrelease\u001b[0m\u001b[1;33m(\u001b[0m\u001b[1;33m)\u001b[0m\u001b[1;33m\u001b[0m\u001b[1;33m\u001b[0m\u001b[0m\n\u001b[1;32m---> 43\u001b[1;33m \u001b[0mcv2\u001b[0m\u001b[1;33m.\u001b[0m\u001b[0mdestoryAllWindows\u001b[0m\u001b[1;33m(\u001b[0m\u001b[1;33m)\u001b[0m\u001b[1;33m\u001b[0m\u001b[1;33m\u001b[0m\u001b[0m\n\u001b[0m",
      "\u001b[1;31mAttributeError\u001b[0m: module 'cv2' has no attribute 'destoryAllWindows'"
     ]
    }
   ],
   "source": [
    "import cv2\n",
    "import tensorflow.keras\n",
    "import numpy as np\n",
    "\n",
    "model_filename = './keras_model.h5' # keras 모델 파일 경로\n",
    "model = tensorflow.keras.models.load_model(model_filename) # keras 모델 파일 가져오기\n",
    "\n",
    "capture = cv2.VideoCapture(1) # 내장 카메라 불러오기\n",
    "\n",
    "# 비디오 켭쳐 프레임의 너비와 높이 설정\n",
    "capture.set(cv2.CAP_PROP_FRAME_WIDTH, 320)\n",
    "capture.set(cv2.CAP_PROP_FRAME_HEIGHT, 320)\n",
    "\n",
    "# 비디오 프레임 읽어와 화면에 보여주기\n",
    "while True:  # 실시간 프레임 받아오기 위해 무한 반복\n",
    "    ret, frame = capture.read() # 카메라 상태와 프레임을 받아와 변수에 각각 저장\n",
    "    if ret:\n",
    "        print('비디오 읽기 성공')\n",
    "    frame_fliped = cv2.flip(frame, 1) # 카메라 프레임 좌우 반전\n",
    "    cv2.imshow('videoFrame', frame_fliped) # 비디오 프레임 출력\n",
    "\n",
    "    if cv2.waitKey(200) == 27 :\n",
    "        break\n",
    "\n",
    "# 전처리\n",
    "size = (224,224)\n",
    "frame_resized = cv2.resize(frame, size, interpolation=cv2.INTER_AREA) # 이미지 사이즈 재설정\n",
    "frame_normalizerd = (frame_resized.astype(np.float32) / 127.0) - 1  # 이미지 정규화\n",
    "frame_reshaped = frame_normalizerd.reshape((1,224,224,3)) # 이미지 재조정\n",
    "\n",
    "\n",
    "\n",
    "# 예측\n",
    "prediction = model.predict(frame_reshaped)\n",
    "if prediction[0,0] < prediction[0,1]:\n",
    "    print('me')\n",
    "else:\n",
    "    print('not me')\n",
    "\n",
    "print(prediction)\n",
    "\n",
    "capture.release()\n",
    "cv2.destoryAllWindows()\n"
   ]
  },
  {
   "cell_type": "code",
   "execution_count": null,
   "metadata": {},
   "outputs": [],
   "source": []
  }
 ],
 "metadata": {
  "interpreter": {
   "hash": "31f2aee4e71d21fbe5cf8b01ff0e069b9275f58929596ceb00d14d90e3e16cd6"
  },
  "kernelspec": {
   "display_name": "Python 3.8.10 64-bit",
   "language": "python",
   "name": "python3"
  },
  "language_info": {
   "codemirror_mode": {
    "name": "ipython",
    "version": 3
   },
   "file_extension": ".py",
   "mimetype": "text/x-python",
   "name": "python",
   "nbconvert_exporter": "python",
   "pygments_lexer": "ipython3",
   "version": "3.10.1"
  },
  "orig_nbformat": 4
 },
 "nbformat": 4,
 "nbformat_minor": 2
}
