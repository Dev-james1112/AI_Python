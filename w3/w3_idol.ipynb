{
 "cells": [
  {
   "cell_type": "markdown",
   "id": "de35ac91",
   "metadata": {},
   "source": [
    "# 아이돌 데이터 분석"
   ]
  },
  {
   "cell_type": "markdown",
   "id": "7db36d58",
   "metadata": {},
   "source": [
    "## 데이터 관리하기"
   ]
  },
  {
   "cell_type": "code",
   "execution_count": 15,
   "id": "b5778517",
   "metadata": {},
   "outputs": [
    {
     "data": {
      "text/html": [
       "<div>\n",
       "<style scoped>\n",
       "    .dataframe tbody tr th:only-of-type {\n",
       "        vertical-align: middle;\n",
       "    }\n",
       "\n",
       "    .dataframe tbody tr th {\n",
       "        vertical-align: top;\n",
       "    }\n",
       "\n",
       "    .dataframe thead th {\n",
       "        text-align: right;\n",
       "    }\n",
       "</style>\n",
       "<table border=\"1\" class=\"dataframe\">\n",
       "  <thead>\n",
       "    <tr style=\"text-align: right;\">\n",
       "      <th></th>\n",
       "      <th>데뷔년도</th>\n",
       "      <th>데뷔곡</th>\n",
       "      <th>좋아하는 곡</th>\n",
       "      <th>멤버수</th>\n",
       "    </tr>\n",
       "    <tr>\n",
       "      <th>그룹명</th>\n",
       "      <th></th>\n",
       "      <th></th>\n",
       "      <th></th>\n",
       "      <th></th>\n",
       "    </tr>\n",
       "  </thead>\n",
       "  <tbody>\n",
       "    <tr>\n",
       "      <th>방탄소년단</th>\n",
       "      <td>2013년</td>\n",
       "      <td>No More Dream</td>\n",
       "      <td>소우주</td>\n",
       "      <td>7</td>\n",
       "    </tr>\n",
       "    <tr>\n",
       "      <th>트와이스</th>\n",
       "      <td>2015년</td>\n",
       "      <td>OOH-AHH하게</td>\n",
       "      <td>Cheer Up</td>\n",
       "      <td>9</td>\n",
       "    </tr>\n",
       "    <tr>\n",
       "      <th>2PM</th>\n",
       "      <td>2008년</td>\n",
       "      <td>10점 만점에 10점</td>\n",
       "      <td>우리집</td>\n",
       "      <td>6</td>\n",
       "    </tr>\n",
       "    <tr>\n",
       "      <th>에스파</th>\n",
       "      <td>2020년</td>\n",
       "      <td>Black Mamba</td>\n",
       "      <td>Next Level</td>\n",
       "      <td>4</td>\n",
       "    </tr>\n",
       "    <tr>\n",
       "      <th>EXO</th>\n",
       "      <td>2012년</td>\n",
       "      <td>MAMA</td>\n",
       "      <td>으르렁</td>\n",
       "      <td>9</td>\n",
       "    </tr>\n",
       "    <tr>\n",
       "      <th>SG워너비</th>\n",
       "      <td>2004년</td>\n",
       "      <td>Timeless</td>\n",
       "      <td>라라라</td>\n",
       "      <td>3</td>\n",
       "    </tr>\n",
       "  </tbody>\n",
       "</table>\n",
       "</div>"
      ],
      "text/plain": [
       "        데뷔년도            데뷔곡      좋아하는 곡  멤버수\n",
       "그룹명                                         \n",
       "방탄소년단  2013년  No More Dream         소우주    7\n",
       "트와이스   2015년      OOH-AHH하게    Cheer Up    9\n",
       "2PM    2008년    10점 만점에 10점         우리집    6\n",
       "에스파    2020년    Black Mamba  Next Level    4\n",
       "EXO    2012년           MAMA         으르렁    9\n",
       "SG워너비  2004년       Timeless         라라라    3"
      ]
     },
     "execution_count": 15,
     "metadata": {},
     "output_type": "execute_result"
    }
   ],
   "source": [
    "# 아이돌 데이터 파일 불러오기\n",
    "# 아이돌 그룹명을 인덱스로 지정하기\n",
    "\n",
    "import pandas as pd\n",
    "\n",
    "data = pd.read_csv('idol_data.csv', index_col=0)\n",
    "\n",
    "#잘못된 데이터 수정하기\n",
    "data.loc['EXO', '데뷔년도'] = '2012년'\n",
    "data.loc['에스파', '데뷔년도'] = '2020년'\n",
    "data.loc['에스파', '데뷔곡'] = 'Black Mamba'\n",
    "\n",
    "#한번에 수정하기\n",
    "data.loc['에스파'] = ['2020년', 'Black Mamba', '-']\n",
    "data['좋아하는 곡'] = ['소우주', 'Cheer Up', '우리집', 'Next Level', '으르렁']\n",
    "\n",
    "#데이터 추가하기\n",
    "data.loc['SG워너비'] = ['2004년', 'Timeless', '라라라']\n",
    "data['멤버수'] = 0\n",
    "data['멤버수'] = [7,9,6,4,9,3]\n",
    "data"
   ]
  },
  {
   "cell_type": "markdown",
   "id": "3c2bbdb1",
   "metadata": {},
   "source": [
    "## 데이터 파악하기"
   ]
  },
  {
   "cell_type": "code",
   "execution_count": 26,
   "id": "bb1f69bf",
   "metadata": {},
   "outputs": [
    {
     "name": "stdout",
     "output_type": "stream",
     "text": [
      "<class 'pandas.core.frame.DataFrame'>\n",
      "Index: 6 entries, 방탄소년단 to SG워너비\n",
      "Data columns (total 4 columns):\n",
      " #   Column  Non-Null Count  Dtype \n",
      "---  ------  --------------  ----- \n",
      " 0   데뷔년도    6 non-null      object\n",
      " 1   데뷔곡     6 non-null      object\n",
      " 2   좋아하는 곡  6 non-null      object\n",
      " 3   멤버수     6 non-null      int64 \n",
      "dtypes: int64(1), object(3)\n",
      "memory usage: 412.0+ bytes\n"
     ]
    },
    {
     "data": {
      "text/html": [
       "<div>\n",
       "<style scoped>\n",
       "    .dataframe tbody tr th:only-of-type {\n",
       "        vertical-align: middle;\n",
       "    }\n",
       "\n",
       "    .dataframe tbody tr th {\n",
       "        vertical-align: top;\n",
       "    }\n",
       "\n",
       "    .dataframe thead th {\n",
       "        text-align: right;\n",
       "    }\n",
       "</style>\n",
       "<table border=\"1\" class=\"dataframe\">\n",
       "  <thead>\n",
       "    <tr style=\"text-align: right;\">\n",
       "      <th></th>\n",
       "      <th>데뷔년도</th>\n",
       "      <th>데뷔곡</th>\n",
       "      <th>좋아하는 곡</th>\n",
       "      <th>멤버수</th>\n",
       "    </tr>\n",
       "    <tr>\n",
       "      <th>그룹명</th>\n",
       "      <th></th>\n",
       "      <th></th>\n",
       "      <th></th>\n",
       "      <th></th>\n",
       "    </tr>\n",
       "  </thead>\n",
       "  <tbody>\n",
       "    <tr>\n",
       "      <th>방탄소년단</th>\n",
       "      <td>2013년</td>\n",
       "      <td>No More Dream</td>\n",
       "      <td>소우주</td>\n",
       "      <td>7</td>\n",
       "    </tr>\n",
       "  </tbody>\n",
       "</table>\n",
       "</div>"
      ],
      "text/plain": [
       "        데뷔년도            데뷔곡 좋아하는 곡  멤버수\n",
       "그룹명                                    \n",
       "방탄소년단  2013년  No More Dream    소우주    7"
      ]
     },
     "execution_count": 26,
     "metadata": {},
     "output_type": "execute_result"
    }
   ],
   "source": [
    "data.info()  # 데이터에 대한 전반적인 정보\n",
    "data.shape  # (행, 열)\n",
    "data['멤버수'].unique()  # column 데이터의 고유값\n",
    "data['멤버수'].value_counts()  # column이 가진 각 데이터가 나온 횟수\n",
    "data.head(2)   #데이터프레임의 첫 행부터 n개의 데이터\n",
    "data.tail(2)   #데이터프레임의 끝 행부터 끝에서 n번째까지의 데이터\n",
    "data.sort_values(by='데뷔년도', ascending=True)   #조건에 맞게 데이터를 정렬\n",
    "data.loc[data['좋아하는 곡'].str.contains('소우주')]"
   ]
  }
 ],
 "metadata": {
  "kernelspec": {
   "display_name": "Python 3 (ipykernel)",
   "language": "python",
   "name": "python3"
  },
  "language_info": {
   "codemirror_mode": {
    "name": "ipython",
    "version": 3
   },
   "file_extension": ".py",
   "mimetype": "text/x-python",
   "name": "python",
   "nbconvert_exporter": "python",
   "pygments_lexer": "ipython3",
   "version": "3.10.1"
  }
 },
 "nbformat": 4,
 "nbformat_minor": 5
}
